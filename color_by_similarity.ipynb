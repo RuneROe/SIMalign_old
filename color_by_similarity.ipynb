{
 "cells": [
  {
   "cell_type": "markdown",
   "metadata": {},
   "source": [
    "##Color by similarity\n",
    "\n",
    "**How to:**\n",
    "1.   Choose the wanted options below.\n",
    "2.   Press \"Runtime\" -> \"Run all\".\n",
    "3.   Press \"Choose Files\" and choose all the structures that you want to analyse (At least 3 structures).\n",
    "4.   A dropdown menu will appear. Choose the structure that you want to be the reference and Press \"SELECT\"."
   ]
  },
  {
   "cell_type": "code",
   "execution_count": 2,
   "metadata": {},
   "outputs": [
    {
     "name": "stderr",
     "output_type": "stream",
     "text": [
      "/home/rune/miniconda3/lib/python3.9/site-packages/scipy/__init__.py:155: UserWarning: A NumPy version >=1.18.5 and <1.25.0 is required for this version of SciPy (detected version 1.25.2\n",
      "  warnings.warn(f\"A NumPy version >={np_minversion} and <{np_maxversion}\"\n"
     ]
    },
    {
     "name": "stdout",
     "output_type": "stream",
     "text": [
      "installing pymol...\n"
     ]
    },
    {
     "ename": "RuntimeError",
     "evalue": "This module must ONLY run as part of a Colab notebook!",
     "output_type": "error",
     "traceback": [
      "\u001b[0;31m---------------------------------------------------------------------------\u001b[0m",
      "\u001b[0;31mModuleNotFoundError\u001b[0m                       Traceback (most recent call last)",
      "File \u001b[0;32m~/miniconda3/lib/python3.9/site-packages/condacolab.py:26\u001b[0m, in \u001b[0;36m<module>\u001b[0;34m\u001b[0m\n\u001b[1;32m     25\u001b[0m \u001b[39mtry\u001b[39;00m:\n\u001b[0;32m---> 26\u001b[0m     \u001b[39mimport\u001b[39;00m \u001b[39mgoogle\u001b[39;00m\u001b[39m.\u001b[39;00m\u001b[39mcolab\u001b[39;00m\n\u001b[1;32m     27\u001b[0m \u001b[39mexcept\u001b[39;00m \u001b[39mImportError\u001b[39;00m:\n",
      "\u001b[0;31mModuleNotFoundError\u001b[0m: No module named 'google'",
      "\nDuring handling of the above exception, another exception occurred:\n",
      "\u001b[0;31mRuntimeError\u001b[0m                              Traceback (most recent call last)",
      "\u001b[1;32m/home/rune/DTU/11. semester - Speciale/Scripts/git_color_by_similarity/color_by_similarity.ipynb Cell 2\u001b[0m in \u001b[0;36m<cell line: 11>\u001b[0;34m()\u001b[0m\n\u001b[1;32m     <a href='vscode-notebook-cell://wsl%2Bubuntu-20.04/home/rune/DTU/11.%20semester%20-%20Speciale/Scripts/git_color_by_similarity/color_by_similarity.ipynb#W1sdnNjb2RlLXJlbW90ZQ%3D%3D?line=11'>12</a>\u001b[0m \u001b[39mprint\u001b[39m(\u001b[39m\"\u001b[39m\u001b[39minstalling pymol...\u001b[39m\u001b[39m\"\u001b[39m)\n\u001b[1;32m     <a href='vscode-notebook-cell://wsl%2Bubuntu-20.04/home/rune/DTU/11.%20semester%20-%20Speciale/Scripts/git_color_by_similarity/color_by_similarity.ipynb#W1sdnNjb2RlLXJlbW90ZQ%3D%3D?line=12'>13</a>\u001b[0m os\u001b[39m.\u001b[39msystem(\u001b[39m\"\u001b[39m\u001b[39mpip install -q condacolab\u001b[39m\u001b[39m\"\u001b[39m)\n\u001b[0;32m---> <a href='vscode-notebook-cell://wsl%2Bubuntu-20.04/home/rune/DTU/11.%20semester%20-%20Speciale/Scripts/git_color_by_similarity/color_by_similarity.ipynb#W1sdnNjb2RlLXJlbW90ZQ%3D%3D?line=13'>14</a>\u001b[0m \u001b[39mimport\u001b[39;00m \u001b[39mcondacolab\u001b[39;00m\n\u001b[1;32m     <a href='vscode-notebook-cell://wsl%2Bubuntu-20.04/home/rune/DTU/11.%20semester%20-%20Speciale/Scripts/git_color_by_similarity/color_by_similarity.ipynb#W1sdnNjb2RlLXJlbW90ZQ%3D%3D?line=14'>15</a>\u001b[0m condacolab\u001b[39m.\u001b[39minstall()\n\u001b[1;32m     <a href='vscode-notebook-cell://wsl%2Bubuntu-20.04/home/rune/DTU/11.%20semester%20-%20Speciale/Scripts/git_color_by_similarity/color_by_similarity.ipynb#W1sdnNjb2RlLXJlbW90ZQ%3D%3D?line=15'>16</a>\u001b[0m os\u001b[39m.\u001b[39msystem(\u001b[39m\"\u001b[39m\u001b[39mmamba install -c conda-forge rdkit\u001b[39m\u001b[39m\"\u001b[39m)\n",
      "File \u001b[0;32m~/miniconda3/lib/python3.9/site-packages/condacolab.py:28\u001b[0m, in \u001b[0;36m<module>\u001b[0;34m\u001b[0m\n\u001b[1;32m     26\u001b[0m     \u001b[39mimport\u001b[39;00m \u001b[39mgoogle\u001b[39;00m\u001b[39m.\u001b[39;00m\u001b[39mcolab\u001b[39;00m\n\u001b[1;32m     27\u001b[0m \u001b[39mexcept\u001b[39;00m \u001b[39mImportError\u001b[39;00m:\n\u001b[0;32m---> 28\u001b[0m     \u001b[39mraise\u001b[39;00m \u001b[39mRuntimeError\u001b[39;00m(\u001b[39m\"\u001b[39m\u001b[39mThis module must ONLY run as part of a Colab notebook!\u001b[39m\u001b[39m\"\u001b[39m)\n\u001b[1;32m     31\u001b[0m __version__ \u001b[39m=\u001b[39m \u001b[39m\"\u001b[39m\u001b[39m0.1.6\u001b[39m\u001b[39m\"\u001b[39m\n\u001b[1;32m     32\u001b[0m __author__ \u001b[39m=\u001b[39m \u001b[39m\"\u001b[39m\u001b[39mJaime Rodríguez-Guerra <jaimergp@users.noreply.github.com>\u001b[39m\u001b[39m\"\u001b[39m\n",
      "\u001b[0;31mRuntimeError\u001b[0m: This module must ONLY run as part of a Colab notebook!"
     ]
    }
   ],
   "source": [
    "#@title Install dependencies\n",
    "\n",
    "\n",
    "import os\n",
    "if not os.path.isfile(\"PYMOL_READY\"):\n",
    "    print(\"installing pymol...\")\n",
    "    os.system(\"pip install -q condacolab\")\n",
    "    print(\"-4%\")\n",
    "    import condacolab\n",
    "    condacolab.install()\n",
    "    print(\"---15%\")\n",
    "    os.system(\"mamba install -c conda-forge rdkit\")\n",
    "    print(\"--------------70%\")\n",
    "    os.system(\"mamba install -c conda-forge pymol-open-source\")\n",
    "    print(\"-------------------95%\")\n",
    "    os.system(\"wget https://raw.githubusercontent.com/rdkit/rdkit/master/Docs/Book/data/cdk\")\n",
    "    os.system(\"which pymol\")\n",
    "    import subprocess\n",
    "    cmd = subprocess.Popen([\"pymol\", \"-cKRQ\"])\n",
    "    os.system(\"ps aux | grep pymol\")\n",
    "    from pymol import cmd\n",
    "    raw_script = \"https://raw.githubusercontent.com/RuneROe/git_color_by_similarity/master/color_by_similarity.py\"\n",
    "    local_script_path = \"/content/color_by_similarity.py\"\n",
    "    os.system(f\"wget {raw_script} -O {local_script_path}\")\n",
    "    os.system(\"touch PYMOL_READY\")\n",
    "    print(\"--------------------100%  Done\")\n",
    "else:\n",
    "    print(\"Dependendies already installed.\")"
   ]
  },
  {
   "cell_type": "code",
   "execution_count": null,
   "metadata": {},
   "outputs": [],
   "source": [
    "#@markdown **How to:**\n",
    "#@markdown 1.   Choose the wanted options below.\n",
    "#@markdown 2.   Press on the run button to the left.\n",
    "#@markdown 3.   Press \"Choose Files\" and choose all the structures that you want to analyse (At least 3 structures).\n",
    "#@markdown 4.   A dropdown menu will appear. Choose the structure that you want to be the reference and Press \"SELECT\".\n",
    "\n",
    "max_iterations = 3 #@param {type:\"integer\"}\n",
    "#@markdown `max_iterations` is the maximum number of alignments. A high number can lead to slow runtime.\n",
    "min_aligned_aa = 100 #@param {type:\"integer\"}\n",
    "#@markdown `min_aligned_aa` is how many amino acid that minimum should be used for alignment. A low number can lead to overfitting.\n",
    "max_dist = 6 #@param {type:\"integer\"}\n",
    "#@markdown `max_dist` is the maximum length between to amino acids before it is considered as a gab in the alignment. A too low number can lead to false gabs and a too high number can lead to false positive.\n",
    "remove_chain_duplicate = True #@param {type:\"boolean\"}\n",
    "#@markdown If `remove_chain_duplicate` is true then is chain duplicates removed from the structure.\n",
    "outfile_name = \"outfile.pse\"\n",
    "#@markdown Choose name of the outfile.\n",
    "\n",
    "#@markdown Be aware that overfitting can occur if the amino acid sequences are too similar. It is recomanded that seqeunces of more than 80% similarity are removed before importing to the program.\n",
    "\n",
    "import ipywidgets as widgets\n",
    "from IPython.display import display\n",
    "from google.colab import files\n",
    "\n",
    "\n",
    "# Create a list of options for the dropdown\n",
    "infiles = files.upload()\n",
    "# file_names = list(infiles.keys())\n",
    "# print(file_names)\n",
    "# Create a dropdown widget\n",
    "dropdown = widgets.Dropdown(\n",
    "    options=infiles,\n",
    "    description='Reference structure:'\n",
    ")\n",
    "\n",
    "# Create a button widget\n",
    "proceed_button = widgets.Button(\n",
    "    description='SELECT',\n",
    "    disabled=False,\n",
    "    button_style='',  # 'success' or '' (empty) for default\n",
    "    tooltip='Click to proceed',\n",
    "    icon=''\n",
    ")\n",
    "\n",
    "\n",
    "# Function to handle button click\n",
    "def on_button_click(b):\n",
    "    selected_option = dropdown.index\n",
    "    ref_structure = list(infiles.keys())[selected_option]\n",
    "    print(f'Selected reference structure: {ref_structure}')\n",
    "    import color_by_similarity\n",
    "    run(ref_structure, infiles, max_iterations, min_aligned_aa, max_dist, remove_chain_duplicate, outfile_name)\n",
    "\n",
    "\n",
    "# Attach the button click function to the button's click event\n",
    "proceed_button.on_click(on_button_click)\n",
    "\n",
    "# Display the widgets\n",
    "display(dropdown)\n",
    "display(proceed_button)\n"
   ]
  }
 ],
 "metadata": {
  "kernelspec": {
   "display_name": "base",
   "language": "python",
   "name": "python3"
  },
  "language_info": {
   "codemirror_mode": {
    "name": "ipython",
    "version": 3
   },
   "file_extension": ".py",
   "mimetype": "text/x-python",
   "name": "python",
   "nbconvert_exporter": "python",
   "pygments_lexer": "ipython3",
   "version": "3.9.13"
  },
  "orig_nbformat": 4
 },
 "nbformat": 4,
 "nbformat_minor": 2
}
