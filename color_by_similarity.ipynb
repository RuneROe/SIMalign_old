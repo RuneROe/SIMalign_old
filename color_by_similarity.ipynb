{
 "cells": [
  {
   "cell_type": "markdown",
   "metadata": {},
   "source": [
    "##Color by similarity\n",
    "\n",
    "**How to:**\n",
    "1.   Choose the wanted options below.\n",
    "2.   Press \"Runtime\" -> \"Run all\".\n",
    "3.   Press \"Choose Files\" and choose all the structures that you want to analyse (At least 3 structures).\n",
    "4.   A dropdown menu will appear. Choose the structure that you want to be the reference and Press \"SELECT\"."
   ]
  },
  {
   "cell_type": "code",
   "execution_count": null,
   "metadata": {},
   "outputs": [],
   "source": []
  }
 ],
 "metadata": {
  "language_info": {
   "name": "python"
  },
  "orig_nbformat": 4
 },
 "nbformat": 4,
 "nbformat_minor": 2
}
