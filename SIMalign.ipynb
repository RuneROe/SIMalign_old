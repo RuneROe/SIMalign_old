{
 "cells": [
  {
   "cell_type": "markdown",
   "metadata": {},
   "source": [
    "<img src=\"https://raw.githubusercontent.com/RuneROe/git_color_by_similarity/master/logo.png\" height=\"200\" align=\"right\" style=\"height:240px\">\n",
    "\n",
    "##SIMalign\n",
    "\n",
    "\n",
    "**How to:**\n",
    "1.   Install dependencies be running first cell (takes some minutes). The code will restart the kernel so wait for this to happen before proceeding.\n",
    "2.   Run the \"Importing files\" cell.\n",
    "3.   A bottum saying \"Choose Files\" will appear. Press it and choose all the structures that you want to analyse (At least 3 structures or use foldseek).\n",
    "4.   Type which structure you want as your reference structure.\n",
    "5.   Run the remaining cells."
   ]
  },
  {
   "cell_type": "code",
   "execution_count": null,
   "metadata": {
    "cellView": "form"
   },
   "outputs": [],
   "source": [
    "#@title Install dependencies\n",
    "\n",
    "import os\n",
    "def get_script(script):\n",
    "    raw_script = f\"https://raw.githubusercontent.com/RuneROe/git_color_by_similarity/master/{script}.py\"\n",
    "    local_script_path = f\"/content/{script}.py\"\n",
    "    os.system(f\"wget {raw_script} -O {local_script_path}\")\n",
    "\n",
    "scripts = {\"findsurfaceatoms\",\"foldseek_search\",\"hotspot_finder\",\"SIMalign\",\"visualization\"}\n",
    "if not os.path.isfile(\"SIMalign_READY\"):\n",
    "    print(\"installing condacolab...\")\n",
    "    os.system(\"pip install -q condacolab\")\n",
    "    import condacolab\n",
    "    condacolab.install()\n",
    "    print(\"installing rdkit...\")\n",
    "    os.system(\"mamba install -c conda-forge rdkit\")\n",
    "    print(\"installing pymol...\")\n",
    "    os.system(\"mamba install -c conda-forge pymol-open-source\")\n",
    "    os.system(\"wget https://raw.githubusercontent.com/rdkit/rdkit/master/Docs/Book/data/cdk\")\n",
    "    os.system(\"which pymol\")\n",
    "    import subprocess\n",
    "    cmd = subprocess.Popen([\"pymol\", \"-cKRQ\"])\n",
    "    os.system(\"ps aux | grep pymol\")\n",
    "    os.system(\"pip install py3Dmol\")    \n",
    "    for s in scripts:\n",
    "        get_script(s)\n",
    "    os.system(\"pip install biopython\")\n",
    "    print(\"installing foldseek...\")\n",
    "    os.system(\"wget https://mmseqs.com/foldseek/foldseek-linux-avx2.tar.gz\")\n",
    "    os.system(\"tar xvzf foldseek-linux-avx2.tar.gz\")\n",
    "    os.system(\"export PATH=$(pwd)/foldseek/bin/:$PATH\")\n",
    "    os.system(\"touch SIMalign_READY\")\n",
    "    print(\"Please wait for the kernel to reboot before proceeding!\")\n",
    "else:\n",
    "    print(\"Dependendies already installed.\")"
   ]
  },
  {
   "cell_type": "code",
   "execution_count": null,
   "metadata": {
    "cellView": "form"
   },
   "outputs": [],
   "source": [
    "#@title Importing files\n",
    "\n",
    "#@markdown Import at least 3 files or activate foldseek.\n",
    "\n",
    "\n",
    "from google.colab import files\n",
    "import sys\n",
    "import os\n",
    "\n",
    "\n",
    "\n",
    "# Removing old uploads\n",
    "OK_files = {\"foldseek\",\"foldseek_output\",\".config\", \"condacolab_install.log\", \"__pycache__\", \"SIMalign_READY\", \"ThermoDB_READY\", \"thermoDB\", \"foldseek_output\", \"sample_data\",\"findsurfaceatoms.py\",\"foldseek_search.py\",\"hotspot_finder.py\",\"SIMalign.py\",\"visualization.py\"}\n",
    "for file in os.listdir():\n",
    "    if file not in OK_files:\n",
    "        os.remove(file)\n",
    "\n",
    "# Wait until files are removed\n",
    "while True:\n",
    "    if set(os.listdir()).issubset(OK_files):\n",
    "        break\n",
    "\n",
    "\n",
    "# Checking if imported files are OK\n",
    "infiles = files.upload()\n",
    "infilenames = list(infiles.keys())\n",
    "\n",
    "for file in infilenames:\n",
    "    if \" \" in file:\n",
    "        print(\"ERROR: No spaces in the names of the uploaded files are allowed.\")\n",
    "        sys.exit(1)\n",
    "ref_structure = infilenames[0]\n",
    "\n",
    "\n",
    "print(\"Choose a reference structure:\")\n",
    "\n",
    "# Prompt the user to choose a file\n",
    "infile_set = set(infilenames)\n",
    "while True:\n",
    "    choice = input(\"Reference: \")\n",
    "    number = 0\n",
    "    for file in infilenames:\n",
    "        if file.startswith(choice):\n",
    "            number += 1\n",
    "            ref_structure = file\n",
    "    if number == 1:\n",
    "        print(f'Selected reference structure: {ref_structure}')\n",
    "        break\n",
    "    elif number > 1:\n",
    "        print(\"Not unique choice. Please enter full file name or remove files of similar names.\")\n",
    "    else:\n",
    "        print(\"Invalid choice. Please enter a name of a file.\")\n",
    "\n"
   ]
  },
  {
   "cell_type": "code",
   "execution_count": null,
   "metadata": {
    "cellView": "form"
   },
   "outputs": [],
   "source": [
    "#@title Download options\n",
    "download_pymol = True #@param {type: \"boolean\"}\n",
    "#@markdown  - `download_pymol` allows you to download a pymol file of your aligned structures. \n",
    "outfile_name = \"outfile\" #@param {type:\"string\"}\n",
    "\n",
    "download_alignment = True #@param {type: \"boolean\"}\n",
    "#@markdown  - `download_alignment` allows you to download a alignment file of your aligned structures in sequence format.\n",
    "alignment_file_name = \"alignment.aln\" #@param {type:\"string\"}\n",
    "\n",
    "\n",
    "# removing spaces from outfile and add .pse\n",
    "outfile_name = \"_\".join(outfile_name.split(\" \"))+\".pse\""
   ]
  },
  {
   "cell_type": "code",
   "execution_count": null,
   "metadata": {
    "cellView": "form"
   },
   "outputs": [],
   "source": [
    "#@title Visualization options\n",
    "color_mode = \"similarity\" #@param [\"similarity\", \"hotspot\", \"none\"] {type:\"string\"}\n",
    "#@markdown  - `color_mode` specify which way the structures should be colored.\n",
    "structure_format = \"spheres-sticks\" #@param [\"spheres-sticks\",\"cartoon\",\"spheres\",\"sticks\"] {type:\"string\"}\n",
    "#@markdown   - `structure_format` specify how the structure should be showed in pymol.\n",
    "show_in_pymol = \"only_not_conserved\" #@param [\"only_not_conserved_core\",\"only_core\", \"only_not_conserved\",\"entire_chain_A\",\"everything\"] {type:\"string\"}\n",
    "#@markdown   - `show_in_pymol` specify what part of the structures that will be shown in pymol.\n",
    "color_by_element = True #@param {type: \"boolean\"}\n",
    "#@markdown   - If `color_by_element` is ON then atom will be colored by element in pymol."
   ]
  },
  {
   "cell_type": "code",
   "execution_count": null,
   "metadata": {
    "cellView": "form"
   },
   "outputs": [],
   "source": [
    "#@title SIMalign options\n",
    "max_iterations = 3 #@param {type:\"integer\"}\n",
    "#@markdown  - `max_iterations` is the maximum number of alignments. A high number can lead to slow runtime.\n",
    "min_aligned_aa = 100 #@param {type:\"integer\"}\n",
    "#@markdown  - `min_aligned_aa` is how many amino acid that minimum should be used for alignment. A low number can lead to overfitting.\n",
    "max_dist = 6 #@param {type:\"integer\"}\n",
    "#@markdown  - `max_dist` is the maximum length between to amino acids before it is considered as a gab in the alignment. A too low number can lead to false gabs and a too high number can lead to false positive.\n",
    "# remove_chain_duplicate = True #@param {type:\"boolean\"}\n",
    "# For now it only takes chain A\n",
    "#  #@markdown If `remove_chain_duplicate` is true then is chain duplicates removed from the structure."
   ]
  },
  {
   "cell_type": "code",
   "execution_count": null,
   "metadata": {
    "cellView": "form"
   },
   "outputs": [],
   "source": [
    "#@title Foldseek options\n",
    "foldseek = True #@param {type:\"boolean\"}\n",
    "#@markdown  - Activate foldseek by setting foldseek ON.\n",
    "foldseek_database = \"Alphafold/Swiss-Prot\" #@param [\"Alphafold/UniProt\",\"Alphafold/UniProt50-minimal\",\"Alphafold/UniProt50\",\"Alphafold/Proteome\",\"Alphafold/Swiss-Prot\",\"ESMAtlas30\",\"PDB\",\"Thermophilic_DB\"] {type:\"string\"}\n",
    "#@markdown  - `foldseek_database` specify which database should be used for the foldseek search.\n",
    "foldseek_variable_tresshold = \"fident\" #@param [\"number_of_structures\",\"evalue\",\"pident\",\"fident\",\"nident\",\"alnlen\",\"bits\",\"mismatch\",\"qcov\",\"tcov\",\"lddt\",\"qtmscore\",\"ttmscore\",\"alntmscore\",\"rmsd\",\"prob\"]\n",
    "#@markdown  - `foldseek_variable_tresshold` specify what foldseek variable that should be used as cutoff for structures. The defualt is \"fident\" which is sequence identity. \"number_of_structures\" enable the user to specify how many structures that should be downloaded.\n",
    "foldseek_value_tresshold = 0.8  #@param {type:\"number\"}\n",
    "#@markdown  - `foldseek_value_tresshold` specify the cutoff value for the given foldseek variable.\n",
    "foldseek_search_against = \"ref_structure\" #@param [\"ref_structure\",\"all_structures\"]\n",
    "#@markdown  - `foldseek_search_against` specify wheather only the reference structure or all structures should be used in the foldseek search.\n",
    "#@markdown Read more about foldseek on https://github.com/steineggerlab/foldseek"
   ]
  },
  {
   "cell_type": "code",
   "execution_count": null,
   "metadata": {
    "cellView": "form"
   },
   "outputs": [],
   "source": [
    "#@title Hotspot finding options\n",
    "find_hotspots = True #@param {type: \"boolean\"}\n",
    "#@markdown  - If `find_hotspots` is true, then the program will find amino acid in the structure that can be mutated to potentially alter the stability of the protein.\n",
    "#hotspot_min_size = 2 #@param {type: \"integer\"}\n",
    "#For now we only finds single mutations"
   ]
  },
  {
   "cell_type": "code",
   "execution_count": null,
   "metadata": {
    "cellView": "form"
   },
   "outputs": [],
   "source": [
    "#@title Run prediction\n",
    "import SIMalign\n",
    "\n",
    "\n",
    "if len(infilenames) < 3 and foldseek == False:\n",
    "    print(\"ERROR: Import at least 3 files or activate foldseek.\")\n",
    "    sys.exit(1)\n",
    "\n",
    "if foldseek:\n",
    "    import foldseek_search\n",
    "    infilenames = foldseek_search.run(foldseek_database,foldseek_variable_tresshold,foldseek_value_tresshold,foldseek_search_against,ref_structure,infilenames)\n",
    "len_ref_structure, score_list, structure_list, core_selection = SIMalign.run(ref_structure, infilenames, max_iterations, min_aligned_aa, max_dist, alignment_file_name)\n",
    "\n",
    "if find_hotspots:\n",
    "    import hotspot_finder\n",
    "    hotspot_list, exposed_list = hotspot_finder.run(structure_list,alignment_file_name)\n",
    "    hotspot_finder.print_hotspot(hotspot_list,structure_list)\n",
    "else:\n",
    "    hotspot_list, exposed_list = None, None\n",
    "\n",
    "\n",
    "if color_mode == \"hotspot\" and find_hotspots == False:\n",
    "    print(\"ERROR: unable to color hotspot without finding them!\")\n",
    "else:\n",
    "    import visualization\n",
    "    visualization.run(color_mode,hotspot_list,score_list,structure_list,core_selection,exposed_list,structure_format,show_in_pymol,color_by_element)\n",
    "\n",
    "from pymol import cmd\n",
    "cmd.save(outfile_name)\n",
    "if download_pymol:\n",
    "    files.download(outfile_name)\n",
    "else:\n",
    "    print(\"Done\")"
   ]
  },
  {
   "cell_type": "code",
   "execution_count": null,
   "metadata": {
    "cellView": "form"
   },
   "outputs": [],
   "source": [
    "#@title Display reference structure\n",
    "#@markdown Reference structure needs to be a pdb file in order to visualize.\n",
    "\n",
    "import visualization\n",
    "view = visualization.show_pdb(ref_structure,color_mode,score_list,len_ref_structure,hotspot_list)\n",
    "view.zoomTo()"
   ]
  }
 ],
 "metadata": {
  "kernelspec": {
   "display_name": "base",
   "language": "python",
   "name": "python3"
  },
  "language_info": {
   "codemirror_mode": {
    "name": "ipython",
    "version": 3
   },
   "file_extension": ".py",
   "mimetype": "text/x-python",
   "name": "python",
   "nbconvert_exporter": "python",
   "pygments_lexer": "ipython3",
   "version": "3.9.13"
  },
  "orig_nbformat": 4
 },
 "nbformat": 4,
 "nbformat_minor": 2
}
