{
 "cells": [
  {
   "cell_type": "code",
   "execution_count": 2,
   "metadata": {},
   "outputs": [],
   "source": [
    "import numpy as np\n",
    "from pymol import cmd"
   ]
  },
  {
   "cell_type": "code",
   "execution_count": 18,
   "metadata": {},
   "outputs": [
    {
     "name": "stdout",
     "output_type": "stream",
     "text": [
      "3.7416573867739413 8.774964387392123\n",
      "3.7416573867739413\n",
      "The angle between the two vectors is 12.933154491899135 degrees.\n",
      "The arccosine of -0.3333333333333333 is 1.9106332362490186 radians.\n",
      "109.47122063449069\n"
     ]
    }
   ],
   "source": [
    "import numpy as np\n",
    "\n",
    "v1 = np.array([1, 2, 3])\n",
    "v2 = np.array([4, 5, 6])\n",
    "\n",
    "dot_product = np.dot(v1, v2)\n",
    "magnitude_v1 = np.linalg.norm(v1)\n",
    "magnitude_v2 = np.linalg.norm(v2)\n",
    "print(magnitude_v1,magnitude_v2)\n",
    "print(np.sqrt(np.sum(v1**2)))\n",
    "angle_radians = np.arccos(dot_product / (magnitude_v1 * magnitude_v2))\n",
    "angle_degrees = np.degrees(angle_radians)\n",
    "\n",
    "print(f\"The angle between the two vectors is {angle_degrees} degrees.\")\n",
    "\n",
    "import numpy as np\n",
    "\n",
    "value = -1/3\n",
    "angle_radians = np.arccos(-1/3)\n",
    "\n",
    "print(f\"The arccosine of {value} is {angle_radians} radians.\")\n",
    "print(np.degrees(angle_radians))"
   ]
  },
  {
   "cell_type": "code",
   "execution_count": 55,
   "metadata": {},
   "outputs": [
    {
     "name": "stdout",
     "output_type": "stream",
     "text": [
      "[0 0 1] [ 0.94280904  0.         -0.33333333]\n",
      "akjklfsjl [-0.47140452  0.81649658 -0.33333333] [ 0.94280904  0.         -0.33333333]\n",
      "ahjwjfjwkl [0.28867513 0.5        0.81649658] [0.81649658 0.         0.57735027] [-0.76180168  0.61237244  0.21132487] 1.0 [-0.40824829 -0.70710678  0.57735027] 2.0943951023931953\n",
      "[-0.47140452  0.81649658 -0.33333333]\n",
      "[[ 0.57735027 -0.         -0.81649658]\n",
      " [ 0.          1.         -0.        ]\n",
      " [ 0.81649658  0.          0.57735027]]\n",
      "[-0.4714045207910317, -0.816496580927726, -0.3333333333333333]\n",
      "hej [0 0 1] [0.81649658 0.         0.57735027]\n",
      "[0. 0. 1.] 1.5707963267948966 [[ 6.123234e-17 -1.000000e+00  0.000000e+00]\n",
      " [ 1.000000e+00  6.123234e-17  0.000000e+00]\n",
      " [ 0.000000e+00  0.000000e+00  1.000000e+00]]\n",
      "Original Vector v1: [1 0 0]\n",
      "Rotated Vector v1: [6.123234e-17 1.000000e+00 0.000000e+00]\n",
      "[0.70710678 0.70710678 0.        ]\n",
      "[1.79380389e-16 1.00000000e+00 0.00000000e+00] [1.00000000e+00 1.01465364e-17 0.00000000e+00]\n"
     ]
    }
   ],
   "source": [
    "import numpy as np\n",
    "\n",
    "def normalize_vector(v):\n",
    "    norm = np.linalg.norm(v)\n",
    "    if norm == 0:\n",
    "        return v\n",
    "    return v / norm\n",
    "\n",
    "def calculate_rotation_axis(v1, v2):\n",
    "    v1_normalized = normalize_vector(v1)\n",
    "    v2_normalized = normalize_vector(v2)\n",
    "    axis = np.cross(v1_normalized, v2_normalized)\n",
    "    return normalize_vector(axis)\n",
    "\n",
    "def calculate_rotation_angle(v1, v2):\n",
    "    v1_normalized = normalize_vector(v1)\n",
    "    v2_normalized = normalize_vector(v2)\n",
    "    dot_product = np.dot(v1_normalized, v2_normalized)\n",
    "    return np.arccos(dot_product)\n",
    "\n",
    "def create_rotation_matrix(axis, angle):\n",
    "    c = np.cos(angle)\n",
    "    s = np.sin(angle)\n",
    "    t = 1 - c\n",
    "    x, y, z = axis\n",
    "    return np.array([\n",
    "        [t * x**2 + c, t * x * y - s * z, t * x * z + s * y],\n",
    "        [t * x * y + s * z, t * y**2 + c, t * y * z - s * x],\n",
    "        [t * x * z - s * y, t * y * z + s * x, t * z**2 + c]\n",
    "    ])\n",
    "\n",
    "def rotate_vector(vector, rotation_matrix):\n",
    "    return np.dot(rotation_matrix, vector)\n",
    "\n",
    "A1 = np.array([0,0,1])\n",
    "A2 = np.array([np.sqrt(8/9),0,-1/3])\n",
    "print(A1,A2)\n",
    "d = 1.5336\n",
    "axis = calculate_rotation_axis(A1,A2)\n",
    "angle = calculate_rotation_angle(A1,A2)\n",
    "# print(axis,angle)\n",
    "middle_vector = rotate_vector(A1,create_rotation_matrix(axis,angle/2))\n",
    "angle = np.arccos(-1/3)\n",
    "A1_adjusted = rotate_vector(middle_vector,create_rotation_matrix(axis,-angle/2))\n",
    "A2_adjusted = rotate_vector(middle_vector,create_rotation_matrix(axis,angle/2))\n",
    "angle = np.pi*(2/3)\n",
    "A1 = rotate_vector(A2_adjusted,create_rotation_matrix(A1_adjusted,angle))\n",
    "print(\"akjklfsjl\",A1,A2)\n",
    "# A1 = rotate_vector(middle_vector,create_rotation_matrix(axis,np.pi))\n",
    "# axis = calculate_rotation_axis(A1,middle_vector)\n",
    "# A1 = rotate_vector(middle_vector,create_rotation_matrix(axis,-angle/2))\n",
    "# A2 = rotate_vector(middle_vector,create_rotation_matrix(axis,angle/2))\n",
    "x = normalize_vector(np.cross(A2,A1))\n",
    "axis = calculate_rotation_axis(middle_vector,x)\n",
    "# angle = np.arccos(-1/3)\n",
    "angle = np.pi*(2/3)\n",
    "A1 = rotate_vector(middle_vector,create_rotation_matrix(axis,angle))\n",
    "print(\"ahjwjfjwkl\",x,middle_vector,A1,np.linalg.norm(middle_vector),axis,angle)\n",
    "\n",
    "axis = np.array([0,0,1])\n",
    "print(rotate_vector(A2,create_rotation_matrix(axis,angle)))\n",
    "\n",
    "\n",
    "middle_rotated = np.array([np.sqrt(8/9),0,-1/3])\n",
    "axis = calculate_rotation_axis(middle_rotated,middle_vector)\n",
    "angle = calculate_rotation_angle(middle_rotated,middle_vector)\n",
    "A1_rotated = np.array([0,0,1])\n",
    "# print(axis,angle)\n",
    "print(create_rotation_matrix(axis,angle))\n",
    "A2_rotated = rotate_vector(A2,create_rotation_matrix(axis,angle)) #check angle\n",
    "print([-np.sqrt(2/9),-np.sqrt(2/3),-(1/3)])\n",
    "print(\"hej\",A1_rotated,A2_rotated)\n",
    "# A1_norm = (A1/(np.sqrt(np.sum(A1**2))))*d # normalize to 1.5336\n",
    "# A2_norm = (A2/(np.sqrt(np.sum(A2**2))))*d # normalize to 1.5336\n",
    "\n",
    "axis = calculate_rotation_axis(A1,A2)\n",
    "angle = np.pi/2\n",
    "virtual_center = rotate_vector(A1,create_rotation_matrix(axis,angle)) #check angle\n",
    "d = np.sqrt(np.sum(A1**2))\n",
    "\n",
    "\n",
    "\n",
    "\n",
    "v1 = np.array([1,0,0])\n",
    "v2 = np.array([0,1,0])\n",
    "\n",
    "axis = calculate_rotation_axis(v1, v2)\n",
    "angle = calculate_rotation_angle(v1, v2)\n",
    "rotation_matrix = create_rotation_matrix(axis, angle)\n",
    "rotated_v1 = rotate_vector(v1, rotation_matrix)\n",
    "\n",
    "print(axis,angle,rotation_matrix)\n",
    "print(\"Original Vector v1:\", v1)\n",
    "print(\"Rotated Vector v1:\", rotated_v1)\n",
    "\n",
    "A1 = np.array([1,0,0])\n",
    "A2 = np.array([0,1,0])\n",
    "\n",
    "axis = calculate_rotation_axis(A1,A2)\n",
    "angle = calculate_rotation_angle(A1, A2)\n",
    "rotation_matrix = create_rotation_matrix(axis,angle/2)\n",
    "middel = rotate_vector(A1,rotation_matrix)\n",
    "print(middel)\n",
    "rotation_matrix = create_rotation_matrix(axis,angle/2)\n",
    "rotation_matrix2 = create_rotation_matrix(axis,-angle/2)\n",
    "hej = rotate_vector(middel,rotation_matrix)\n",
    "hej2 = rotate_vector(middel,rotation_matrix2)\n",
    "print(hej,hej2)"
   ]
  },
  {
   "cell_type": "code",
   "execution_count": 46,
   "metadata": {},
   "outputs": [
    {
     "name": "stdout",
     "output_type": "stream",
     "text": [
      "0.5773502691896258\n",
      "Vertex 1: [0 0 1]\n",
      "Vertex 2: [ 0.94280904  0.         -0.33333333]\n",
      "Vertex 3: [0.47140452 0.         0.80473785]\n",
      "Vertex 4: [ 0.47140452  0.         -0.13807119]\n"
     ]
    }
   ],
   "source": [
    "import numpy as np\n",
    "\n",
    "# Coordinates of the two known vertices\n",
    "vertex1 = np.array([0,0,1])\n",
    "vertex2 = np.array([np.sqrt(8/9),0,-1/3])\n",
    "\n",
    "# A1 = np.array([0,0,1])\n",
    "# A2 = np.array([np.sqrt(8/9),0,-1/3])\n",
    "\n",
    "# Calculate the midpoint of the two known vertices\n",
    "midpoint = (vertex1 + vertex2) / 2\n",
    "\n",
    "# Calculate the distance from the centroid (0, 0, 0) to the midpoint\n",
    "distance = np.linalg.norm(midpoint)\n",
    "\n",
    "# Calculate the height of the tetrahedron (distance from centroid to the center of a face)\n",
    "height = np.sqrt(2/3) * distance\n",
    "\n",
    "# Calculate the coordinates of the remaining two vertices\n",
    "vertex3 = midpoint + np.array([0, 0, height])\n",
    "vertex4 = midpoint - np.array([0, 0, height])\n",
    "print(distance)\n",
    "\n",
    "print(\"Vertex 1:\", vertex1)\n",
    "print(\"Vertex 2:\", vertex2)\n",
    "print(\"Vertex 3:\", vertex3)\n",
    "print(\"Vertex 4:\", vertex4)"
   ]
  },
  {
   "cell_type": "code",
   "execution_count": 1,
   "metadata": {},
   "outputs": [],
   "source": [
    "import foldseek_virtual_center"
   ]
  },
  {
   "cell_type": "code",
   "execution_count": 2,
   "metadata": {},
   "outputs": [],
   "source": [
    "from pymol import cmd"
   ]
  },
  {
   "cell_type": "code",
   "execution_count": 3,
   "metadata": {},
   "outputs": [],
   "source": [
    "structure_path = \"../../Structures/SP_amidases/SP1_AF.pdb\"\n",
    "cmd.load(structure_path)\n",
    "structure = structure_path.split(\"/\")[-1].split(\".\")[0]\n",
    "model = cmd.get_model(structure)"
   ]
  },
  {
   "cell_type": "code",
   "execution_count": 58,
   "metadata": {},
   "outputs": [
    {
     "data": {
      "text/plain": [
       "-234.234"
      ]
     },
     "execution_count": 58,
     "metadata": {},
     "output_type": "execute_result"
    }
   ],
   "source": [
    "round(-234.23445325,3)"
   ]
  },
  {
   "cell_type": "code",
   "execution_count": 93,
   "metadata": {},
   "outputs": [
    {
     "data": {
      "text/plain": [
       "<function foldseek_virtual_center.foldseek_virtual_center(model)>"
      ]
     },
     "execution_count": 93,
     "metadata": {},
     "output_type": "execute_result"
    }
   ],
   "source": [
    "foldseek_virtual_center.foldseek_virtual_center"
   ]
  },
  {
   "cell_type": "code",
   "execution_count": 2,
   "metadata": {},
   "outputs": [],
   "source": [
    "import os\n",
    "for x in os.listdir(\"thermoDB\"):\n",
    "    os.system(f\"mv thermoDB/{x} thermoDB/thermoDB{x.split('v2_opT-min70')[-1]}\")"
   ]
  },
  {
   "cell_type": "code",
   "execution_count": 5,
   "metadata": {},
   "outputs": [
    {
     "name": "stdout",
     "output_type": "stream",
     "text": [
      "1\n",
      "2\n",
      "3\n",
      "4\n",
      "5\n",
      "6\n",
      "7\n",
      "8\n",
      "9\n",
      "10\n",
      "1\n",
      "2\n",
      "3\n"
     ]
    }
   ],
   "source": [
    "test = [1,2,3,4,5,6,7,8,9,10]\n",
    "for x in range(13):\n",
    "    print(test[x%10])"
   ]
  },
  {
   "cell_type": "code",
   "execution_count": 7,
   "metadata": {},
   "outputs": [
    {
     "name": "stdout",
     "output_type": "stream",
     "text": [
      "[[0.81, 0.34, 0.34], [0.42, 0.47, 0.91], [0.4, 0.84, 0.47], [0.82, 0.38, 0.83], [0.91, 0.64, 0.45], [0.41, 0.89, 0.7], [0.27, 0.71, 0.84], [0.69, 0.56, 0.82], [0.9, 0.68, 0.77], [0.88, 0.79, 0.42], [0.89, 0.89, 0.89]]\n"
     ]
    }
   ],
   "source": [
    "kage = [\n",
    "    [206,87,87],\n",
    "    [106,120,232],\n",
    "    [101,213,119],\n",
    "    [208,98,211],\n",
    "    \n",
    "    [231,163,116],\n",
    "    [104,227,178],\n",
    "    [69,180,214],\n",
    "    [175,143,210],\n",
    "    [229,174,196],\n",
    "    [224,202,107],\n",
    "    [228,228,228]      \n",
    "    ]\n",
    "iii = []\n",
    "for ele in kage:\n",
    "    iii.append([round(x/255,2) for x in ele])\n",
    "print(iii)"
   ]
  },
  {
   "cell_type": "code",
   "execution_count": 71,
   "metadata": {},
   "outputs": [
    {
     "data": {
      "text/plain": [
       "8"
      ]
     },
     "execution_count": 71,
     "metadata": {},
     "output_type": "execute_result"
    }
   ],
   "source": [
    "len(str(-123.345))"
   ]
  },
  {
   "cell_type": "code",
   "execution_count": 4,
   "metadata": {},
   "outputs": [],
   "source": [
    "import foldseek_virtual_center\n",
    "# def add_space(number,max_length,decimaler):\n",
    "#     number = str(number)\n",
    "#     if len(number.split(\".\")) > 1:\n",
    "#         while len(number.split(\".\")[-1]) != decimaler:\n",
    "#             number += \"0\"\n",
    "# def add_space(number,max_length,decimaler):\n",
    "#     number = str(number)\n",
    "#     if len(number.split(\".\")) > 1:\n",
    "#         while len(number.split(\".\")[-1]) != decimaler:\n",
    "#             number += \"0\"\n",
    "#     space = \" \"\n",
    "#     for x in range(int(max_length-len(str(number)))):\n",
    "#         space += \" \"\n",
    "#     return space + str(number)\n",
    "\n",
    "# def virtual_center_to_pdb(virtual_centers,outfilename,structure_name):\n",
    "#     model = cmd.get_model(structure_name+\" and name CA\").atom\n",
    "#     with open(outfilename,\"w\") as out:\n",
    "#         out.write(\"MODEL\\t1\\n\")\n",
    "#         for i,v in enumerate(virtual_centers):\n",
    "#             resi = str(i+1)\n",
    "#             resi = add_space(resi,6,0)\n",
    "#             v0 = add_space(round(v[0],3),7,3)\n",
    "#             v1 = add_space(round(v[1],3),7,3)\n",
    "#             v2 = add_space(round(v[2],3),7,3)\n",
    "#             out.write(f\"ATOM{resi}  CA  {model[i].resn} A{resi[3:]}    {v0}{v1}{v2}\\t1.00 98.00           C\\n\")\n",
    "#     space = \" \"\n",
    "#     for x in range(int(max_length-len(str(number)))):\n",
    "#         space += \" \"\n",
    "#     return space + str(number)\n",
    "# kage = cmd.get_model(structure+\" and name CA\").atom\n",
    "vi = foldseek_virtual_center.foldseek_virtual_center(model)\n",
    "foldseek_virtual_center.virtual_center_to_pdb(vi,\"tmp/virtual_SP1.pdb\",structure)\n",
    "\n"
   ]
  },
  {
   "cell_type": "code",
   "execution_count": null,
   "metadata": {},
   "outputs": [],
   "source": [
    "MODEL     1                                                                     \n",
    "ATOM      1  CA   ALA A   1      -9.758  -6.578  16.438  1.00 58.84           C\n",
    "          s               s               koord           no  100.00          C"
   ]
  },
  {
   "cell_type": "code",
   "execution_count": null,
   "metadata": {},
   "outputs": [],
   "source": [
    "foldseek_virtual_center(model)"
   ]
  },
  {
   "cell_type": "code",
   "execution_count": 13,
   "metadata": {},
   "outputs": [
    {
     "name": "stdout",
     "output_type": "stream",
     "text": [
      "<bound method Base.list of <chempy.models.Indexed object at 0x7fda7b2eceb0>>\n"
     ]
    }
   ],
   "source": [
    "print(model.atom.coord)"
   ]
  }
 ],
 "metadata": {
  "kernelspec": {
   "display_name": "base",
   "language": "python",
   "name": "python3"
  },
  "language_info": {
   "codemirror_mode": {
    "name": "ipython",
    "version": 3
   },
   "file_extension": ".py",
   "mimetype": "text/x-python",
   "name": "python",
   "nbconvert_exporter": "python",
   "pygments_lexer": "ipython3",
   "version": "3.9.13"
  },
  "orig_nbformat": 4
 },
 "nbformat": 4,
 "nbformat_minor": 2
}
